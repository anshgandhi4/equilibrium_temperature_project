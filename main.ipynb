{
 "cells": [
  {
   "cell_type": "markdown",
   "metadata": {},
   "source": [
    "# Equilibrium Temperature Distributions\n",
    "\n",
    "### Authors\n",
    "\n",
    "Ansh Gandhi, Krrish Kainth, FNU Kalkin\n",
    "\n",
    "### Division of Labor\n",
    "\n",
    "|Name|Task|\n",
    "|----|----|\n",
    "|Ansh||\n",
    "|Krrish||\n",
    "|Kalkin||\n",
    "\n",
    "### Math Work\n",
    "\n",
    "Linear Albebra!"
   ]
  },
  {
   "cell_type": "code",
   "execution_count": 42,
   "metadata": {},
   "outputs": [],
   "source": [
    "import numpy as np\n",
    "# import scipy.linalg.lu as lu\n",
    "from sympy import Matrix"
   ]
  },
  {
   "cell_type": "code",
   "execution_count": 37,
   "metadata": {},
   "outputs": [],
   "source": [
    "def solveTempEq(size, lTemp, uTemp, rTemp, dTemp):\n",
    "    C = np.zeros((size*size, size*size))\n",
    "    b = np.zeros(size*size)\n",
    "    for r in range(size):\n",
    "        for c in range(size):\n",
    "            ptNum = findPtNum(r, c, size)\n",
    "            if c - 1 != 0:\n",
    "                C[ptNum][ptNum - 1] = 1\n",
    "            else:\n",
    "                b[ptNum] += lTemp\n",
    "            if r - 1 != 0:\n",
    "                C[ptNum][ptNum - size] = 1\n",
    "            else:\n",
    "                b[ptNum] += uTemp\n",
    "            if c + 1 != size:\n",
    "                C[ptNum][ptNum + 1] = 1\n",
    "            else:\n",
    "                b[ptNum] += rTemp\n",
    "            if r + 1 != size:\n",
    "                C[ptNum][ptNum + size] = 1\n",
    "            else:\n",
    "                b[ptNum] += dTemp\n",
    "    print(C)\n",
    "    return np.linalg.solve(4 * np.identity(size * size) - C, b)\n",
    "\n",
    "def findPtNum(row, col, size):\n",
    "    return size * row + col"
   ]
  },
  {
   "cell_type": "code",
   "execution_count": 38,
   "metadata": {},
   "outputs": [
    {
     "name": "stdout",
     "output_type": "stream",
     "text": [
      "[[0. 1. 1. 1.]\n",
      " [0. 0. 0. 1.]\n",
      " [0. 1. 0. 1.]\n",
      " [0. 0. 0. 0.]]\n",
      "[ 9.765625  6.25     17.8125   15.      ]\n"
     ]
    }
   ],
   "source": [
    "print(solveTempEq(2, 10, 30, 0, 20))"
   ]
  },
  {
   "cell_type": "markdown",
   "metadata": {},
   "source": [
    "## Question 1\n",
    "\n",
    "Solve the following system by row reduction:\n",
    "\n",
    "<img src=\"https://cdn.discordapp.com/attachments/860730627862429727/958443092137103390/unknown.png\">"
   ]
  },
  {
   "cell_type": "code",
   "execution_count": 43,
   "metadata": {},
   "outputs": [
    {
     "name": "stdout",
     "output_type": "stream",
     "text": [
      "(Matrix([\n",
      "[1, 0, 0, 1, 0],\n",
      "[0, 1, 1, 0, 0],\n",
      "[0, 0, 0, 0, 1],\n",
      "[0, 0, 0, 0, 0]]), (0, 1, 4))\n"
     ]
    }
   ],
   "source": [
    "M = Matrix([[0, 1, 1, 0, 40],\n",
    "                [1, 0, 0, 1, 30],\n",
    "                [1, 0, 0, 1, 30],\n",
    "                [0, 1, 1, 0, 20]])\n",
    "print(M.rref())\n"
   ]
  },
  {
   "cell_type": "markdown",
   "metadata": {},
   "source": [
    "## Question 2\n",
    "\n",
    "Find A, the inverse of A, and x for the above system of equations. Confirm that your answer matches that of Question 1."
   ]
  },
  {
   "cell_type": "code",
   "execution_count": null,
   "metadata": {},
   "outputs": [
    {
     "name": "stdout",
     "output_type": "stream",
     "text": [
      "[[ 4. -1. -1.  0.]\n",
      " [-1.  4.  0. -1.]\n",
      " [-1.  0.  4. -1.]\n",
      " [ 0. -1. -1.  4.]]\n"
     ]
    }
   ],
   "source": [
    "C = np.matrix([[0, 1, 1, 0], [1, 0, 0, 1], [1, 0, 0, 1], [0, 1, 1, 0]])\n",
    "b = np.array([[40], [30], [30], [20]])\n",
    "A = 4 * np.identity(4) - C\n",
    "print(A)"
   ]
  },
  {
   "cell_type": "code",
   "execution_count": null,
   "metadata": {},
   "outputs": [
    {
     "name": "stdout",
     "output_type": "stream",
     "text": [
      "[[0.29166667 0.08333333 0.08333333 0.04166667]\n",
      " [0.08333333 0.29166667 0.04166667 0.08333333]\n",
      " [0.08333333 0.04166667 0.29166667 0.08333333]\n",
      " [0.04166667 0.08333333 0.08333333 0.29166667]]\n"
     ]
    }
   ],
   "source": [
    "AInv = np.linalg.inv(A)\n",
    "print(AInv)"
   ]
  },
  {
   "cell_type": "code",
   "execution_count": null,
   "metadata": {},
   "outputs": [
    {
     "name": "stdout",
     "output_type": "stream",
     "text": [
      "[[17.5]\n",
      " [15. ]\n",
      " [15. ]\n",
      " [12.5]]\n"
     ]
    }
   ],
   "source": [
    "x = AInv * b\n",
    "print(x)"
   ]
  },
  {
   "cell_type": "markdown",
   "metadata": {},
   "source": [
    "# Question 3\n",
    "Suppose that the external temperature at the top of the plate changes to 50&deg;. Use results from \n",
    "Question 2 to find the new equilibrium temperature distribution. "
   ]
  },
  {
   "cell_type": "code",
   "execution_count": null,
   "metadata": {},
   "outputs": [],
   "source": [
    "b = np.array([[40], [30], [30], [20]])\n",
    "A = 4 * np.identity(4) - C\n",
    "print(A)"
   ]
  },
  {
   "cell_type": "code",
   "execution_count": null,
   "metadata": {},
   "outputs": [],
   "source": [
    "AInv = np.linalg.inv(A)\n",
    "print(AInv)"
   ]
  },
  {
   "cell_type": "code",
   "execution_count": null,
   "metadata": {},
   "outputs": [],
   "source": [
    "x = AInv * b\n",
    "print(x)"
   ]
  },
  {
   "cell_type": "markdown",
   "metadata": {},
   "source": [
    "# Question 4\n",
    "Do an LU decomposition of _A_ above. Use it to solve the original system and the system with altered external temperatures. Confirm your earlier results. "
   ]
  },
  {
   "cell_type": "markdown",
   "metadata": {},
   "source": [
    "# Question 5\n",
    "A finer grid should give a better approximation of the equilibrium temperatures. Consider the grid in Figure 3 on the following page. Now there are 25 grid points inside the plate, so we now have a system of 25 equations in 25 unknowns. The matrix _C_ and the vector **b** below apply to this situation.\n",
    "\n",
    "Find the temperature distribution in this case with the original external temperatures by either finding $(4I-C)^{-1}$ or by using the LU factorization."
   ]
  }
 ],
 "metadata": {
  "interpreter": {
   "hash": "d3262970b14ed3d45ec27409722570a50dbbffc53730ae37631bcc8066c8c124"
  },
  "kernelspec": {
   "display_name": "Python 3.9.7 64-bit",
   "language": "python",
   "name": "python3"
  },
  "language_info": {
   "codemirror_mode": {
    "name": "ipython",
    "version": 3
   },
   "file_extension": ".py",
   "mimetype": "text/x-python",
   "name": "python",
   "nbconvert_exporter": "python",
   "pygments_lexer": "ipython3",
   "version": "3.8.2"
  },
  "orig_nbformat": 4
 },
 "nbformat": 4,
 "nbformat_minor": 2
}
