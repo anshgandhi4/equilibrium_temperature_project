{
 "cells": [
  {
   "cell_type": "markdown",
   "metadata": {},
   "source": [
    "# Equilibrium Temperature Distributions\n",
    "\n",
    "### Authors\n",
    "\n",
    "Ansh Gandhi, Krrish Kainth, FNU Kalkin\n",
    "\n",
    "### Division of Labor\n",
    "\n",
    "|Name|Task|\n",
    "|----|----|\n",
    "|Ansh||\n",
    "|Krrish||\n",
    "|Kalkin||\n",
    "\n",
    "### Math Work\n",
    "\n",
    "Linear Algebra!"
   ]
  },
  {
   "cell_type": "code",
   "execution_count": null,
   "metadata": {},
   "outputs": [],
   "source": [
    "import numpy as np\n",
    "import scipy as sp\n",
    "from sympy import Matrix"
   ]
  },
  {
   "cell_type": "code",
   "execution_count": null,
   "metadata": {},
   "outputs": [],
   "source": [
    "def solveTempEq(size, lTemp, uTemp, rTemp, dTemp):\n",
    "    C = np.zeros((size*size, size*size))\n",
    "    b = np.zeros(size*size)\n",
    "    for r in range(size):\n",
    "        for c in range(size):\n",
    "            ptNum = findPtNum(r, c, size)\n",
    "            if c - 1 != -1:\n",
    "                C[ptNum][ptNum - 1] = 1\n",
    "            else:\n",
    "                b[ptNum] += lTemp\n",
    "            if r - 1 != -1:\n",
    "                C[ptNum][ptNum - size] = 1\n",
    "            else:\n",
    "                b[ptNum] += uTemp\n",
    "            if c + 1 != size:\n",
    "                C[ptNum][ptNum + 1] = 1\n",
    "            else:\n",
    "                b[ptNum] += rTemp\n",
    "            if r + 1 != size:\n",
    "                C[ptNum][ptNum + size] = 1\n",
    "            else:\n",
    "                b[ptNum] += dTemp\n",
    "    print(C)\n",
    "    return np.linalg.solve(4 * np.identity(size * size) - C, b)\n",
    "\n",
    "def findPtNum(row, col, size):\n",
    "    return size * row + col"
   ]
  },
  {
   "cell_type": "code",
   "execution_count": null,
   "metadata": {},
   "outputs": [],
   "source": [
    "print(solveTempEq(2, 10, 30, 0, 20))"
   ]
  },
  {
   "cell_type": "markdown",
   "metadata": {},
   "source": [
    "## Question 1\n",
    "\n",
    "Solve the following system by row reduction:\n",
    "\n",
    "$$\\textbf{x} = \\begin{pmatrix}\n",
    "x_1 \\\\\n",
    "x_2 \\\\\n",
    "x_3 \\\\\n",
    "x_4\n",
    "\\end{pmatrix}, C = \\begin{pmatrix}\n",
    "0 & 1 & 1 & 0 \\\\\n",
    "1 & 0 & 0 & 1 \\\\\n",
    "1 & 0 & 0 & 1 \\\\\n",
    "0 & 1 & 1 & 0\n",
    "\\end{pmatrix}, \\textbf{b} = \\begin{pmatrix}\n",
    "40 \\\\\n",
    "30 \\\\\n",
    "30 \\\\\n",
    "20\n",
    "\\end{pmatrix}$$",
    "![](https://cdn.discordapp.com/attachments/860730627862429727/958443092137103390/unknown.png)\n",
    "\n",
    "![](https://cdn.discordapp.com/attachments/860730627862429727/958806269794349086/unknown.png)\n",
    "\n",
    "![](https://cdn.discordapp.com/attachments/860730627862429727/958809485810475018/unknown.png)\n",
    "\n",
    "![](https://cdn.discordapp.com/attachments/860730627862429727/958809604869996604/unknown.png)"
   ]
  },
  {
   "cell_type": "code",
   "execution_count": 82,
   "metadata": {},
   "outputs": [
    {
     "name": "stdout",
     "output_type": "stream",
     "text": [
      "C = \n"
     ]
    },
    {
     "data": {
      "text/latex": [
       "$\\displaystyle \\left[\\begin{matrix}0 & 1 & 1 & 0\\\\1 & 0 & 0 & 1\\\\1 & 0 & 0 & 1\\\\0 & 1 & 1 & 0\\end{matrix}\\right]$"
      ],
      "text/plain": [
       "Matrix([\n",
       "[0, 1, 1, 0],\n",
       "[1, 0, 0, 1],\n",
       "[1, 0, 0, 1],\n",
       "[0, 1, 1, 0]])"
      ]
     },
     "execution_count": 82,
     "metadata": {},
     "output_type": "execute_result"
    }
   ],
   "source": [
    "C = Matrix([[0, 1, 1, 0],\n",
    "            [1, 0, 0, 1],\n",
    "            [1, 0, 0, 1],\n",
    "            [0, 1, 1, 0]])\n",
    "print(\"C = \")\n",
    "C\n"
   ]
  },
  {
   "cell_type": "code",
   "execution_count": 83,
   "metadata": {},
   "outputs": [
    {
     "name": "stdout",
     "output_type": "stream",
     "text": [
      "A = \n"
     ]
    },
    {
     "data": {
      "text/latex": [
       "$\\displaystyle \\left[\\begin{matrix}4 & -1 & -1 & 0\\\\-1 & 4 & 0 & -1\\\\-1 & 0 & 4 & -1\\\\0 & -1 & -1 & 4\\end{matrix}\\right]$"
      ],
      "text/plain": [
       "Matrix([\n",
       "[ 4, -1, -1,  0],\n",
       "[-1,  4,  0, -1],\n",
       "[-1,  0,  4, -1],\n",
       "[ 0, -1, -1,  4]])"
      ]
     },
     "execution_count": 83,
     "metadata": {},
     "output_type": "execute_result"
    }
   ],
   "source": [
    "I = Matrix([[1, 0, 0, 0],\n",
    "            [0, 1, 0, 0],\n",
    "            [0, 0, 1, 0],\n",
    "            [0, 0, 0, 1]])\n",
    "A = 4 * I - C\n",
    "print(\"A = \")\n",
    "A"
   ]
  },
  {
   "cell_type": "code",
   "execution_count": 84,
   "metadata": {},
   "outputs": [
    {
     "name": "stdout",
     "output_type": "stream",
     "text": [
      "Augmented Matrix:\n"
     ]
    },
    {
     "data": {
      "text/latex": [
       "$\\displaystyle \\left[\\begin{matrix}4 & -1 & -1 & 0 & 40 & 40\\\\-1 & 4 & 0 & -1 & 30 & 30\\\\-1 & 0 & 4 & -1 & 30 & 30\\\\0 & -1 & -1 & 4 & 20 & 20\\end{matrix}\\right]$"
      ],
      "text/plain": [
       "Matrix([\n",
       "[ 4, -1, -1,  0, 40, 40],\n",
       "[-1,  4,  0, -1, 30, 30],\n",
       "[-1,  0,  4, -1, 30, 30],\n",
       "[ 0, -1, -1,  4, 20, 20]])"
      ]
     },
     "execution_count": 84,
     "metadata": {},
     "output_type": "execute_result"
    }
   ],
   "source": [
    "M = M.col_insert(M.shape[0], Matrix([40, 30, 30, 20]))\n",
    "print(\"Augmented Matrix:\")\n",
    "M"
   ]
  },
  {
   "cell_type": "code",
   "execution_count": 85,
   "metadata": {},
   "outputs": [
    {
     "name": "stdout",
     "output_type": "stream",
     "text": [
      "Row Reduced Echelon Form:\n"
     ]
    },
    {
     "data": {
      "text/latex": [
       "$\\displaystyle \\left[\\begin{matrix}1 & 0 & 0 & 0 & \\frac{35}{2} & \\frac{35}{2}\\\\0 & 1 & 0 & 0 & 15 & 15\\\\0 & 0 & 1 & 0 & 15 & 15\\\\0 & 0 & 0 & 1 & \\frac{25}{2} & \\frac{25}{2}\\end{matrix}\\right]$"
      ],
      "text/plain": [
       "Matrix([\n",
       "[1, 0, 0, 0, 35/2, 35/2],\n",
       "[0, 1, 0, 0,   15,   15],\n",
       "[0, 0, 1, 0,   15,   15],\n",
       "[0, 0, 0, 1, 25/2, 25/2]])"
      ]
     },
     "execution_count": 85,
     "metadata": {},
     "output_type": "execute_result"
    }
   ],
   "source": [
    "print(\"Row Reduced Echelon Form:\")\n",
    "M.rref()[0]"
   ]
  },
  {
   "cell_type": "code",
   "execution_count": 86,
   "metadata": {},
   "outputs": [
    {
     "name": "stdout",
     "output_type": "stream",
     "text": [
      "x = \n"
     ]
    },
    {
     "data": {
      "text/latex": [
       "$\\displaystyle \\left[\\begin{matrix}\\frac{35}{2}\\\\15\\\\15\\\\\\frac{25}{2}\\end{matrix}\\right]$"
      ],
      "text/plain": [
       "Matrix([\n",
       "[35/2],\n",
       "[  15],\n",
       "[  15],\n",
       "[25/2]])"
      ]
     },
     "execution_count": 86,
     "metadata": {},
     "output_type": "execute_result"
    }
   ],
   "source": [
    "x = M.rref()[0].col(M.shape[0])\n",
    "print('x = ')\n",
    "x"
   ]
  },
  {
   "cell_type": "markdown",
   "metadata": {},
   "source": [
    "## Question 2\n",
    "\n",
    "Find $A$, $A^{-1}$, and $\\textbf{x}$ for the above system of equations. Confirm that your answer matches that of Question 1."
   ]
  },
  {
   "cell_type": "code",
   "execution_count": null,
   "metadata": {},
   "outputs": [],
   "source": [
    "C = np.matrix([[0, 1, 1, 0], [1, 0, 0, 1], [1, 0, 0, 1], [0, 1, 1, 0]])\n",
    "b = np.array([[40], [30], [30], [20]])\n",
    "A = 4 * np.identity(4) - C\n",
    "print(A)"
   ]
  },
  {
   "cell_type": "code",
   "execution_count": null,
   "metadata": {},
   "outputs": [],
   "source": [
    "A_inv = np.linalg.inv(A)\n",
    "print(A_inv)"
   ]
  },
  {
   "cell_type": "code",
   "execution_count": 89,
   "metadata": {},
   "outputs": [],
   "source": [
    "x = A_inv * b\n",
    "print(x)"
   ]
  },
  {
   "cell_type": "markdown",
   "metadata": {},
   "source": [
    "# Question 3\n",
    "Suppose that the external temperature at the top of the plate changes to $50^{\\circ}$. Use results from \n",
    "Question 2 to find the new equilibrium temperature distribution. "
   ]
  },
  {
   "cell_type": "code",
   "execution_count": null,
   "metadata": {},
   "outputs": [],
   "source": [
    "b = np.array([[60], [50], [30], [20]])\n",
    "x = A_inv * b\n",
    "print(x)"
   ]
  },
  {
   "cell_type": "markdown",
   "metadata": {},
   "source": [
    "# Question 4\n",
    "Do an LU decomposition of $A$ above. Use it to solve the original system and the system with altered external temperatures. Confirm your earlier results. "
   ]
  },
  {
   "cell_type": "code",
   "execution_count": null,
   "metadata": {},
   "outputs": [],
   "source": [
    "L, U = sp.linalg.lu(A, permute_l=True)\n",
    "print(L)\n",
    "print(U)\n",
    "print(np.matrix(L) * np.matrix(U))"
   ]
  },
  {
   "cell_type": "markdown",
   "metadata": {},
   "source": [
    "# Question 5\n",
    "A finer grid should give a better approximation of the equilibrium temperatures. Consider the grid in Figure 3 on the following page. Now there are 25 grid points inside the plate, so we now have a system of 25 equations in 25 unknowns. The matrix $C$ and the vector $\\textbf{b}$ below apply to this situation.\n",
    "\n",
    "Find the temperature distribution in this case with the original external temperatures by either finding $(4I-C)^{-1}$ or by using the LU factorization."
   ]
  }
 ],
 "metadata": {
  "interpreter": {
   "hash": "d3262970b14ed3d45ec27409722570a50dbbffc53730ae37631bcc8066c8c124"
  },
  "kernelspec": {
   "display_name": "Python 3.9.7 64-bit",
   "language": "python",
   "name": "python3"
  },
  "language_info": {
   "codemirror_mode": {
    "name": "ipython",
    "version": 3
   },
   "file_extension": ".py",
   "mimetype": "text/x-python",
   "name": "python",
   "nbconvert_exporter": "python",
   "pygments_lexer": "ipython3",
   "version": "3.9.7"
  },
  "orig_nbformat": 4
 },
 "nbformat": 4,
 "nbformat_minor": 2
}
